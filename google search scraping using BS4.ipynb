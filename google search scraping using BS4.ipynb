{
 "cells": [
  {
   "cell_type": "code",
   "execution_count": 60,
   "metadata": {},
   "outputs": [],
   "source": [
    "import requests\n",
    "from fake_useragent import UserAgent\n",
    "from bs4 import BeautifulSoup"
   ]
  },
  {
   "cell_type": "code",
   "execution_count": 61,
   "metadata": {},
   "outputs": [],
   "source": [
    "import urllib\n",
    "\n",
    "query = \"'trade war'\"\n",
    "query = urllib.parse.quote_plus(query) # Format into URL encoding\n",
    "number_result = 20"
   ]
  },
  {
   "cell_type": "code",
   "execution_count": 65,
   "metadata": {},
   "outputs": [],
   "source": [
    "ua = UserAgent()\n",
    "\n",
    "google_url = \"https://www.google.com/search?q=\" + query + \"&num=\" + str(number_result)\n",
    "response = requests.get(google_url, {\"User-Agent\": ua.random})\n",
    "soup = BeautifulSoup(response.text, \"html.parser\")\n",
    "\n",
    "result_div = soup.find_all('div', attrs = {'class': 'ZINbbc'})\n",
    "\n",
    "links = []\n",
    "titles = []\n",
    "descriptions = []\n",
    "for r in result_div:\n",
    "    # Checks if each element is present, else, raise exception\n",
    "    try:\n",
    "        link = r.find('a', href = True)\n",
    "        title = r.find('div', attrs={'class':'vvjwJb'}).get_text()\n",
    "        description = r.find('div', attrs={'class':'s3v9rd'}).get_text()\n",
    "        \n",
    "        # Check to make sure everything is present before appending\n",
    "        if link != '' and title != '' and description != '': \n",
    "            links.append(link['href'])\n",
    "            titles.append(title)\n",
    "            descriptions.append(description)\n",
    "    # Next loop if one element is not present\n",
    "    except:\n",
    "        continue"
   ]
  },
  {
   "cell_type": "code",
   "execution_count": 66,
   "metadata": {},
   "outputs": [
    {
     "data": {
      "text/plain": [
       "['A quick guide to the US-China trade war - BBC News - BBC.com',\n",
       " 'China–United States trade war - Wikipedia',\n",
       " 'Trade war - Wikipedia',\n",
       " 'China Cuts Tariffs on $75 Billion of U.S. Imports | Time',\n",
       " 'The U.S. trade war with China has a winner: Vietnam.',\n",
       " 'Trade war - Wikipedia',\n",
       " 'Trade war - Wikipedia',\n",
       " 'Trump tariffs - Wikipedia',\n",
       " 'Trade War Definition - Investopedia',\n",
       " '4 ways the U.S.-China trade war affects you - The Washington Post',\n",
       " \"Trump's Trade War Timeline: An Up-to-Date Guide | PIIE\",\n",
       " 'U.S. Trade Deficit Shrinks, but Not Because Factories Are Returning ...',\n",
       " 'Trade Wars: Definition, Trump vs China and EU - The Balance',\n",
       " 'Trade war: China announces tariff cuts as part of phase one deal ...',\n",
       " 'US-China trade war | South China Morning Post',\n",
       " 'Trade War - Al Jazeera',\n",
       " \"Farmer: The trade war battered my business. Trump's Phase One ...\",\n",
       " 'US trade deficit shrank while Trump ramped up trade war in 2019 ...',\n",
       " \"The U.S.-China Trade War Was All About 'Winning.' Coronavirus ...\",\n",
       " 'The US-China Trade War: A Timeline - China Briefing News',\n",
       " 'How the Coronavirus Is Helping China Win the Trade War - CCN.com',\n",
       " 'Trade War Definition - Investopedia',\n",
       " 'US-China trade dispute | Financial Times',\n",
       " 'trade war - HuffPost']"
      ]
     },
     "execution_count": 66,
     "metadata": {},
     "output_type": "execute_result"
    }
   ],
   "source": [
    "titles"
   ]
  },
  {
   "cell_type": "code",
   "execution_count": 55,
   "metadata": {},
   "outputs": [
    {
     "data": {
      "text/plain": [
       "24"
      ]
     },
     "execution_count": 55,
     "metadata": {},
     "output_type": "execute_result"
    }
   ],
   "source": [
    "len(descriptions)"
   ]
  },
  {
   "cell_type": "code",
   "execution_count": 56,
   "metadata": {},
   "outputs": [
    {
     "data": {
      "text/plain": [
       "['/url?q=https://www.bbc.com/news/business-45899310&sa=U&ved=2ahUKEwiIyfKhob3nAhXIuFkKHXxSAvcQFjAYegQIFRAB&usg=AOvVaw13U1UBMgw7AGAVFY6G2XY0',\n",
       " '/url?q=https://en.wikipedia.org/wiki/Trade_war&sa=U&ved=2ahUKEwiIyfKhob3nAhXIuFkKHXxSAvcQFnoECAoQAg&usg=AOvVaw0qVcbNgX09WejkRcCNTCFp',\n",
       " '/url?q=https://en.wikipedia.org/wiki/Trade_war&sa=U&ved=2ahUKEwiIyfKhob3nAhXIuFkKHXxSAvcQFnoECAoQAg&usg=AOvVaw0qVcbNgX09WejkRcCNTCFp',\n",
       " '/url?q=https://en.wikipedia.org/wiki/Trump_tariffs&sa=U&ved=2ahUKEwiIyfKhob3nAhXIuFkKHXxSAvcQFnoECA4QAg&usg=AOvVaw2HB2uBPlMmJ0pOpBmL8yEG',\n",
       " '/url?q=https://www.investopedia.com/terms/t/trade-war.asp&sa=U&ved=2ahUKEwiIyfKhob3nAhXIuFkKHXxSAvcQFnoECBEQAg&usg=AOvVaw3CudD2kN9JWMZAuYBEKaWr',\n",
       " '/url?q=https://www.washingtonpost.com/business/2019/08/06/us-china-trade-war-drags-heres-what-it-means-you/&sa=U&ved=2ahUKEwiIyfKhob3nAhXIuFkKHXxSAvcQFnoECBQQAg&usg=AOvVaw2okG5efiZmZIhLEcGctmKX',\n",
       " '/url?q=https://en.wikipedia.org/wiki/China%25E2%2580%2593United_States_trade_war&sa=U&ved=2ahUKEwiIyfKhob3nAhXIuFkKHXxSAvcQFjAhegQIEBAB&usg=AOvVaw0aUNBzfuvta9lkNQupyZ0L',\n",
       " '/url?q=https://en.wikipedia.org/wiki/Trade_war&sa=U&ved=2ahUKEwiIyfKhob3nAhXIuFkKHXxSAvcQFjAiegQIDxAB&usg=AOvVaw0uXXDG8KboRTiUSqPXL65e',\n",
       " '/url?q=https://slate.com/business/2020/02/trade-war-china-us-vietnam-trump.html&sa=U&ved=2ahUKEwiIyfKhob3nAhXIuFkKHXxSAvcQFjAjegQIBhAB&usg=AOvVaw3nU94B9chiJrdQFruKQjgV',\n",
       " '/url?q=https://time.com/5778941/china-cut-tariffs-auto-parts-trade-war/&sa=U&ved=2ahUKEwiIyfKhob3nAhXIuFkKHXxSAvcQFjAkegQIEhAB&usg=AOvVaw3wZrbgmKOq5-AYz37528Wj',\n",
       " '/url?q=https://www.piie.com/blogs/trade-investment-policy-watch/trump-trade-war-china-date-guide&sa=U&ved=2ahUKEwiIyfKhob3nAhXIuFkKHXxSAvcQFjAlegQIExAB&usg=AOvVaw0JyzDHRXx34t8oW3I_9J1i',\n",
       " '/url?q=https://www.nytimes.com/2020/02/05/business/economy/trump-trade.html&sa=U&ved=2ahUKEwiIyfKhob3nAhXIuFkKHXxSAvcQFjAmegQIBRAB&usg=AOvVaw1E6XuHKW32RPCfAUWOK7FE',\n",
       " '/url?q=https://www.thebalance.com/trade-wars-definition-how-it-affects-you-4159973&sa=U&ved=2ahUKEwiIyfKhob3nAhXIuFkKHXxSAvcQFjAnegQICBAB&usg=AOvVaw0ZHcpnTg8STMqvofoI2-RD',\n",
       " '/url?q=https://www.scmp.com/topics/us-china-trade-war&sa=U&ved=2ahUKEwiIyfKhob3nAhXIuFkKHXxSAvcQFjAoegQIGhAB&usg=AOvVaw3j2xV35LKarJF130bkvnO1',\n",
       " '/url?q=https://www.cnn.com/2020/02/05/politics/trade-deficit-falls-2019-trump/index.html&sa=U&ved=2ahUKEwiIyfKhob3nAhXIuFkKHXxSAvcQFjApegQIFhAB&usg=AOvVaw1D1OIZAVBPxMTKjs6i6Ksp',\n",
       " '/url?q=https://www.aljazeera.com/topics/categories/trade-war.html&sa=U&ved=2ahUKEwiIyfKhob3nAhXIuFkKHXxSAvcQFjAqegQIBBAB&usg=AOvVaw3zed4MAscNAAR695IJsEcx',\n",
       " '/url?q=https://www.scmp.com/economy/china-economy/article/3049287/trade-war-china-announces-tariff-cuts-part-phase-one-deal&sa=U&ved=2ahUKEwiIyfKhob3nAhXIuFkKHXxSAvcQFjAregQICxAB&usg=AOvVaw2KyMhHp9J7Bj4nmp9-EMnv',\n",
       " '/url?q=https://www.barrons.com/articles/the-u-s-china-trade-war-was-all-about-winning-coronavirus-shows-why-thats-wrong-51580648400&sa=U&ved=2ahUKEwiIyfKhob3nAhXIuFkKHXxSAvcQFjAsegQIDBAB&usg=AOvVaw1iGxwsX-LaXibtJlreL3iW',\n",
       " '/url?q=https://www.china-briefing.com/news/the-us-china-trade-war-a-timeline/&sa=U&ved=2ahUKEwiIyfKhob3nAhXIuFkKHXxSAvcQFjAtegQIGxAB&usg=AOvVaw2OCYRcK_nZG7NeQBj6iq7g',\n",
       " '/url?q=https://www.ccn.com/how-the-coronavirus-is-helping-china-win-the-trade-war/&sa=U&ved=2ahUKEwiIyfKhob3nAhXIuFkKHXxSAvcQFjAuegQICRAB&usg=AOvVaw3ASjaV09BEISIWjRMCV2ul',\n",
       " '/url?q=https://www.investopedia.com/terms/t/trade-war.asp&sa=U&ved=2ahUKEwiIyfKhob3nAhXIuFkKHXxSAvcQFjAvegQIARAB&usg=AOvVaw0rvuAxZAtvHbP4DAs2Ubxr',\n",
       " '/url?q=https://www.ft.com/us-china-trade-dispute&sa=U&ved=2ahUKEwiIyfKhob3nAhXIuFkKHXxSAvcQFjAwegQIBxAB&usg=AOvVaw0NyamOoAhYfSG9MIMJihjA',\n",
       " '/url?q=https://www.bloomberg.com/news/features/2020-02-02/vietnam-s-economy-is-being-squeezed-in-the-u-s-china-trade-war&sa=U&ved=2ahUKEwiIyfKhob3nAhXIuFkKHXxSAvcQFjAxegQIDRAB&usg=AOvVaw0E46l4jyT0rjDR_Ds1acc1',\n",
       " '/url?q=https://www.huffpost.com/topic/trade-war&sa=U&ved=2ahUKEwiIyfKhob3nAhXIuFkKHXxSAvcQFjAyegQIGBAB&usg=AOvVaw1ygsLtfqlKIbeGea3xfs6u']"
      ]
     },
     "execution_count": 56,
     "metadata": {},
     "output_type": "execute_result"
    }
   ],
   "source": [
    "links"
   ]
  },
  {
   "cell_type": "code",
   "execution_count": 50,
   "metadata": {},
   "outputs": [
    {
     "ename": "IndexError",
     "evalue": "list index out of range",
     "output_type": "error",
     "traceback": [
      "\u001b[1;31m---------------------------------------------------------------------------\u001b[0m",
      "\u001b[1;31mIndexError\u001b[0m                                Traceback (most recent call last)",
      "\u001b[1;32m<ipython-input-50-732ef55cc017>\u001b[0m in \u001b[0;36m<module>\u001b[1;34m\u001b[0m\n\u001b[1;32m----> 1\u001b[1;33m \u001b[0mtitles\u001b[0m\u001b[1;33m[\u001b[0m\u001b[1;36m5\u001b[0m\u001b[1;33m]\u001b[0m\u001b[1;33m,\u001b[0m\u001b[0mdescriptions\u001b[0m\u001b[1;33m[\u001b[0m\u001b[1;36m5\u001b[0m\u001b[1;33m]\u001b[0m\u001b[1;33m\u001b[0m\u001b[1;33m\u001b[0m\u001b[0m\n\u001b[0m",
      "\u001b[1;31mIndexError\u001b[0m: list index out of range"
     ]
    }
   ],
   "source": [
    "titles[5],descriptions[5]"
   ]
  },
  {
   "cell_type": "code",
   "execution_count": 17,
   "metadata": {},
   "outputs": [],
   "source": [
    "import re   \n",
    "\n",
    "to_remove = []\n",
    "clean_links = []\n",
    "for i, l in enumerate(links):\n",
    "    clean = re.search('\\/url\\?q\\=(.*)\\&sa',l)\n",
    "\n",
    "    # Anything that doesn't fit the above pattern will be removed\n",
    "    if clean is None:\n",
    "        to_remove.append(i)\n",
    "        continue\n",
    "    clean_links.append(clean.group(1))\n",
    "\n",
    "# Remove the corresponding titles & descriptions\n",
    "for x in to_remove:\n",
    "    del titles[x]\n",
    "    del descriptions[x]"
   ]
  },
  {
   "cell_type": "code",
   "execution_count": 18,
   "metadata": {},
   "outputs": [
    {
     "data": {
      "text/html": [
       "<div>\n",
       "<style scoped>\n",
       "    .dataframe tbody tr th:only-of-type {\n",
       "        vertical-align: middle;\n",
       "    }\n",
       "\n",
       "    .dataframe tbody tr th {\n",
       "        vertical-align: top;\n",
       "    }\n",
       "\n",
       "    .dataframe thead th {\n",
       "        text-align: right;\n",
       "    }\n",
       "</style>\n",
       "<table border=\"1\" class=\"dataframe\">\n",
       "  <thead>\n",
       "    <tr style=\"text-align: right;\">\n",
       "      <th></th>\n",
       "      <th>Title</th>\n",
       "      <th>Description</th>\n",
       "      <th>URL</th>\n",
       "    </tr>\n",
       "  </thead>\n",
       "  <tbody>\n",
       "    <tr>\n",
       "      <th>0</th>\n",
       "      <td>A quick guide to the US-China trade war - BBC ...</td>\n",
       "      <td>Jan 16, 2020 · The dispute has seen the US and...</td>\n",
       "      <td>https://www.bbc.com/news/business-45899310</td>\n",
       "    </tr>\n",
       "    <tr>\n",
       "      <th>1</th>\n",
       "      <td>China–United States trade war - Wikipedia</td>\n",
       "      <td>The China–United States trade war is an ongoin...</td>\n",
       "      <td>https://en.wikipedia.org/wiki/China%25E2%2580%...</td>\n",
       "    </tr>\n",
       "    <tr>\n",
       "      <th>2</th>\n",
       "      <td>Trade war - Wikipedia</td>\n",
       "      <td>A trade war is an economic conflict resulting ...</td>\n",
       "      <td>https://en.wikipedia.org/wiki/Trade_war</td>\n",
       "    </tr>\n",
       "    <tr>\n",
       "      <th>3</th>\n",
       "      <td>The U.S. trade war with China has a winner: Vi...</td>\n",
       "      <td>15 hours ago · President Donald Trump's trade ...</td>\n",
       "      <td>https://slate.com/business/2020/02/trade-war-c...</td>\n",
       "    </tr>\n",
       "    <tr>\n",
       "      <th>4</th>\n",
       "      <td>Trump's Trade War Timeline: An Up-to-Date Guid...</td>\n",
       "      <td>Jan 24, 2020 · President Donald Trump's trade ...</td>\n",
       "      <td>https://www.piie.com/blogs/trade-investment-po...</td>\n",
       "    </tr>\n",
       "    <tr>\n",
       "      <th>5</th>\n",
       "      <td>Trade Wars: Definition, Trump vs China and EU ...</td>\n",
       "      <td>A trade war is when a nation imposes tariffs o...</td>\n",
       "      <td>https://www.thebalance.com/trade-wars-definiti...</td>\n",
       "    </tr>\n",
       "    <tr>\n",
       "      <th>6</th>\n",
       "      <td>China Cuts Tariffs on $75 Billion of U.S. Impo...</td>\n",
       "      <td>6 hours ago · China cut tariffs on $75 billion...</td>\n",
       "      <td>https://time.com/5778941/china-cut-tariffs-aut...</td>\n",
       "    </tr>\n",
       "    <tr>\n",
       "      <th>7</th>\n",
       "      <td>U.S. Trade Deficit Shrinks Amid Trump Trade Wa...</td>\n",
       "      <td>1 day ago · WASHINGTON — The overall United St...</td>\n",
       "      <td>https://www.nytimes.com/2020/02/05/business/ec...</td>\n",
       "    </tr>\n",
       "    <tr>\n",
       "      <th>8</th>\n",
       "      <td>US trade deficit shrank while Trump ramped up ...</td>\n",
       "      <td>21 hours ago · The US trade deficit shrank for...</td>\n",
       "      <td>https://www.cnn.com/2020/02/05/politics/trade-...</td>\n",
       "    </tr>\n",
       "    <tr>\n",
       "      <th>9</th>\n",
       "      <td>US-China trade war | South China Morning Post</td>\n",
       "      <td>US-China trade war news, including US-China tr...</td>\n",
       "      <td>https://www.scmp.com/topics/us-china-trade-war</td>\n",
       "    </tr>\n",
       "    <tr>\n",
       "      <th>10</th>\n",
       "      <td>Trade War - Al Jazeera</td>\n",
       "      <td>Trade War. ... Trump to EU: Agree a trade deal...</td>\n",
       "      <td>https://www.aljazeera.com/topics/categories/tr...</td>\n",
       "    </tr>\n",
       "    <tr>\n",
       "      <th>11</th>\n",
       "      <td>Trade war: China announces tariff cuts as part...</td>\n",
       "      <td>6 hours ago · China will halve a 10 per cent t...</td>\n",
       "      <td>https://www.scmp.com/economy/china-economy/art...</td>\n",
       "    </tr>\n",
       "    <tr>\n",
       "      <th>12</th>\n",
       "      <td>The U.S.-China Trade War Was All About 'Winnin...</td>\n",
       "      <td>4 days ago · Last month it was trade; before t...</td>\n",
       "      <td>https://www.barrons.com/articles/the-u-s-china...</td>\n",
       "    </tr>\n",
       "    <tr>\n",
       "      <th>13</th>\n",
       "      <td>The US-China Trade War: A Timeline - China Bri...</td>\n",
       "      <td>Jan 16, 2020 · A continually updated timeline ...</td>\n",
       "      <td>https://www.china-briefing.com/news/the-us-chi...</td>\n",
       "    </tr>\n",
       "    <tr>\n",
       "      <th>14</th>\n",
       "      <td>How the Coronavirus Is Helping China Win the T...</td>\n",
       "      <td>1 day ago · President Trump's trade deal is a ...</td>\n",
       "      <td>https://www.ccn.com/how-the-coronavirus-is-hel...</td>\n",
       "    </tr>\n",
       "    <tr>\n",
       "      <th>15</th>\n",
       "      <td>Trade War Definition - Investopedia</td>\n",
       "      <td>Aug 21, 2019 · A trade war happens when one co...</td>\n",
       "      <td>https://www.investopedia.com/terms/t/trade-war...</td>\n",
       "    </tr>\n",
       "    <tr>\n",
       "      <th>16</th>\n",
       "      <td>US-China trade dispute | Financial Times</td>\n",
       "      <td>Coronavirus: will the US show leniency to Chin...</td>\n",
       "      <td>https://www.ft.com/us-china-trade-dispute</td>\n",
       "    </tr>\n",
       "    <tr>\n",
       "      <th>17</th>\n",
       "      <td>trade war : NPR</td>\n",
       "      <td>August 30, 2019 • As the trade war drags on, m...</td>\n",
       "      <td>https://www.npr.org/tags/544557626/trade-war</td>\n",
       "    </tr>\n",
       "    <tr>\n",
       "      <th>18</th>\n",
       "      <td>Vietnam's Economy is Being Squeezed in the U.S...</td>\n",
       "      <td>4 days ago · A Cold War battleground once look...</td>\n",
       "      <td>https://www.bloomberg.com/news/features/2020-0...</td>\n",
       "    </tr>\n",
       "  </tbody>\n",
       "</table>\n",
       "</div>"
      ],
      "text/plain": [
       "                                                Title  \\\n",
       "0   A quick guide to the US-China trade war - BBC ...   \n",
       "1           China–United States trade war - Wikipedia   \n",
       "2                               Trade war - Wikipedia   \n",
       "3   The U.S. trade war with China has a winner: Vi...   \n",
       "4   Trump's Trade War Timeline: An Up-to-Date Guid...   \n",
       "5   Trade Wars: Definition, Trump vs China and EU ...   \n",
       "6   China Cuts Tariffs on $75 Billion of U.S. Impo...   \n",
       "7   U.S. Trade Deficit Shrinks Amid Trump Trade Wa...   \n",
       "8   US trade deficit shrank while Trump ramped up ...   \n",
       "9       US-China trade war | South China Morning Post   \n",
       "10                             Trade War - Al Jazeera   \n",
       "11  Trade war: China announces tariff cuts as part...   \n",
       "12  The U.S.-China Trade War Was All About 'Winnin...   \n",
       "13  The US-China Trade War: A Timeline - China Bri...   \n",
       "14  How the Coronavirus Is Helping China Win the T...   \n",
       "15                Trade War Definition - Investopedia   \n",
       "16           US-China trade dispute | Financial Times   \n",
       "17                                    trade war : NPR   \n",
       "18  Vietnam's Economy is Being Squeezed in the U.S...   \n",
       "\n",
       "                                          Description  \\\n",
       "0   Jan 16, 2020 · The dispute has seen the US and...   \n",
       "1   The China–United States trade war is an ongoin...   \n",
       "2   A trade war is an economic conflict resulting ...   \n",
       "3   15 hours ago · President Donald Trump's trade ...   \n",
       "4   Jan 24, 2020 · President Donald Trump's trade ...   \n",
       "5   A trade war is when a nation imposes tariffs o...   \n",
       "6   6 hours ago · China cut tariffs on $75 billion...   \n",
       "7   1 day ago · WASHINGTON — The overall United St...   \n",
       "8   21 hours ago · The US trade deficit shrank for...   \n",
       "9   US-China trade war news, including US-China tr...   \n",
       "10  Trade War. ... Trump to EU: Agree a trade deal...   \n",
       "11  6 hours ago · China will halve a 10 per cent t...   \n",
       "12  4 days ago · Last month it was trade; before t...   \n",
       "13  Jan 16, 2020 · A continually updated timeline ...   \n",
       "14  1 day ago · President Trump's trade deal is a ...   \n",
       "15  Aug 21, 2019 · A trade war happens when one co...   \n",
       "16  Coronavirus: will the US show leniency to Chin...   \n",
       "17  August 30, 2019 • As the trade war drags on, m...   \n",
       "18  4 days ago · A Cold War battleground once look...   \n",
       "\n",
       "                                                  URL  \n",
       "0          https://www.bbc.com/news/business-45899310  \n",
       "1   https://en.wikipedia.org/wiki/China%25E2%2580%...  \n",
       "2             https://en.wikipedia.org/wiki/Trade_war  \n",
       "3   https://slate.com/business/2020/02/trade-war-c...  \n",
       "4   https://www.piie.com/blogs/trade-investment-po...  \n",
       "5   https://www.thebalance.com/trade-wars-definiti...  \n",
       "6   https://time.com/5778941/china-cut-tariffs-aut...  \n",
       "7   https://www.nytimes.com/2020/02/05/business/ec...  \n",
       "8   https://www.cnn.com/2020/02/05/politics/trade-...  \n",
       "9      https://www.scmp.com/topics/us-china-trade-war  \n",
       "10  https://www.aljazeera.com/topics/categories/tr...  \n",
       "11  https://www.scmp.com/economy/china-economy/art...  \n",
       "12  https://www.barrons.com/articles/the-u-s-china...  \n",
       "13  https://www.china-briefing.com/news/the-us-chi...  \n",
       "14  https://www.ccn.com/how-the-coronavirus-is-hel...  \n",
       "15  https://www.investopedia.com/terms/t/trade-war...  \n",
       "16          https://www.ft.com/us-china-trade-dispute  \n",
       "17       https://www.npr.org/tags/544557626/trade-war  \n",
       "18  https://www.bloomberg.com/news/features/2020-0...  "
      ]
     },
     "execution_count": 18,
     "metadata": {},
     "output_type": "execute_result"
    }
   ],
   "source": [
    "import pandas as pd\n",
    "\n",
    "output_dict = {\n",
    "'Title': titles,\n",
    "'Description': descriptions,\n",
    "'URL': clean_links,\n",
    "}\n",
    "output_df = pd.DataFrame(output_dict, columns = output_dict.keys())\n",
    "\n",
    "output_df"
   ]
  },
  {
   "cell_type": "code",
   "execution_count": null,
   "metadata": {},
   "outputs": [],
   "source": []
  },
  {
   "cell_type": "code",
   "execution_count": null,
   "metadata": {},
   "outputs": [],
   "source": []
  },
  {
   "cell_type": "code",
   "execution_count": 1,
   "metadata": {},
   "outputs": [],
   "source": [
    "import urllib\n",
    "\n",
    "search_title = \"'google home review'\"\n",
    "exclude_url = ['youtube'] # You may add more exclusions\n",
    "\n",
    "query =  \"intitle:\" + search_title\n",
    "\n",
    "for exclude in exclude_url:\n",
    "    query = query + \" -inurl:\" + exclude\n",
    "\n",
    "query = urllib.parse.quote_plus(query)\n",
    "\n",
    "number_result = 20"
   ]
  },
  {
   "cell_type": "code",
   "execution_count": 2,
   "metadata": {},
   "outputs": [],
   "source": [
    "import requests\n",
    "from fake_useragent import UserAgent\n",
    "from bs4 import BeautifulSoup\n",
    "\n",
    "ua = UserAgent()\n",
    "\n",
    "google_url = \"https://www.google.com/search?q=\" + query + \"&num=\" + str(number_result)\n",
    "response = requests.get(google_url, {\"User-Agent\": ua.random})\n",
    "soup = BeautifulSoup(response.text, \"html.parser\")\n",
    "\n",
    "result_div = soup.find_all('div', attrs = {'class': 'ZINbbc'})\n",
    "\n",
    "links = []\n",
    "titles = []\n",
    "descriptions = []\n",
    "for r in result_div:\n",
    "    # Checks if each element is present, else, raise exception\n",
    "    try:\n",
    "        link = r.find('a', href = True)\n",
    "        title = r.find('div', attrs={'class':'vvjwJb'}).get_text()\n",
    "        description = r.find('div', attrs={'class':'s3v9rd'}).get_text()\n",
    "        \n",
    "        # Check to make sure everything is present before appending\n",
    "        if link != '' and title != '' and description != '': \n",
    "            links.append(link['href'])\n",
    "            titles.append(title)\n",
    "            descriptions.append(description)\n",
    "    # Next loop if one element is not present\n",
    "    except:\n",
    "        continue\n",
    "import re   \n",
    "\n",
    "to_remove = []\n",
    "clean_links = []\n",
    "for i, l in enumerate(links):\n",
    "    clean = re.search('\\/url\\?q\\=(.*)\\&sa',l)\n",
    "    if clean is None:\n",
    "        to_remove.append(i)\n",
    "        continue\n",
    "    clean_links.append(clean.group(1))\n",
    "    \n",
    "for x in to_remove:\n",
    "    del titles[x]\n",
    "    del descriptions[x]"
   ]
  },
  {
   "cell_type": "code",
   "execution_count": 6,
   "metadata": {},
   "outputs": [
    {
     "data": {
      "text/plain": [
       "['https://www.techradar.com/reviews/google-home',\n",
       " 'https://www.cnet.com/reviews/google-home-review/',\n",
       " 'https://www.cnet.com/reviews/google-home-review/',\n",
       " 'https://www.cnet.com/reviews/google-home-review/',\n",
       " 'https://www.androidcentral.com/google-home-vs-google-home-mini',\n",
       " 'https://www.digitaltrends.com/smart-home-reviews/google-home-mini-review/',\n",
       " 'https://www.businessinsider.com/google-home-review-dont-buy-it-2016-12',\n",
       " 'https://www.cnet.com/news/which-google-home-speaker-should-you-buy/',\n",
       " 'https://www.whathifi.com/google/home/review',\n",
       " 'https://www.pocket-lint.com/smart-home/reviews/google/139617-google-home-review-speaker-smart-assistant']"
      ]
     },
     "execution_count": 6,
     "metadata": {},
     "output_type": "execute_result"
    }
   ],
   "source": [
    "clean_links[:10]"
   ]
  },
  {
   "cell_type": "code",
   "execution_count": 7,
   "metadata": {},
   "outputs": [
    {
     "data": {
      "text/plain": [
       "<Response [200]>"
      ]
     },
     "execution_count": 7,
     "metadata": {},
     "output_type": "execute_result"
    }
   ],
   "source": [
    "requests.get('https://www.pocket-lint.com/smart-home/reviews/google/139617-google-home-review-speaker-smart-assistant')"
   ]
  },
  {
   "cell_type": "code",
   "execution_count": 8,
   "metadata": {},
   "outputs": [],
   "source": [
    "def tag_visible(element):\n",
    "    from bs4.element import Comment\n",
    "    if element.parent.name in ['style', 'script', 'head', 'title', 'meta', '[document]']:\n",
    "        return False\n",
    "    if isinstance(element, Comment):\n",
    "        return False\n",
    "    return True"
   ]
  },
  {
   "cell_type": "code",
   "execution_count": 9,
   "metadata": {},
   "outputs": [],
   "source": [
    "def get_body_text(url, user_agent):\n",
    "    \"\"\"Get the full body text of specified URL \"\"\"    \n",
    "    import requests\n",
    "    from bs4 import BeautifulSoup\n",
    "    import time\n",
    "    from random import randint\n",
    "    \n",
    "    time.sleep(randint(0, 2))\n",
    "    ua = {\"User-Agent\": user_agent}\n",
    "    \n",
    "    \n",
    "    try:\n",
    "        print(requests.get(url, headers = ua))\n",
    "        if requests.get(url, headers = ua).status_code != 200:\n",
    "            print('Status code is not 200')\n",
    "            return '', requests.get(url, headers = ua).status_code\n",
    "    except:\n",
    "        print('critical error')\n",
    "        return '', requests.get(url, headers = ua).status_code\n",
    "        \n",
    "    body = requests.get(url, headers = ua).content\n",
    "    soup = BeautifulSoup(body, 'html.parser')\n",
    "    texts = soup.findAll(text=True)\n",
    "    \n",
    "    visible_texts = filter(tag_visible, texts)  \n",
    "    return_text = u\"\\n\".join(t.strip() for t in visible_texts)\n",
    "    response_code = requests.get(url, headers = ua).status_code\n",
    "    return return_text, response_code"
   ]
  },
  {
   "cell_type": "code",
   "execution_count": null,
   "metadata": {},
   "outputs": [
    {
     "name": "stdout",
     "output_type": "stream",
     "text": [
      "<Response [200]>\n",
      "<Response [200]>\n",
      "<Response [200]>\n",
      "<Response [200]>\n",
      "<Response [200]>\n",
      "<Response [200]>\n",
      "<Response [200]>\n",
      "<Response [200]>\n",
      "<Response [200]>\n",
      "<Response [200]>\n",
      "<Response [200]>\n",
      "<Response [200]>\n",
      "<Response [200]>\n",
      "<Response [200]>\n"
     ]
    }
   ],
   "source": [
    "texts = []\n",
    "response_code = []\n",
    "for link in clean_links:\n",
    "    t, r = get_body_text(link, ua.random)\n",
    "    texts.append(t)\n",
    "    response_code.append(r)"
   ]
  },
  {
   "cell_type": "code",
   "execution_count": 24,
   "metadata": {},
   "outputs": [
    {
     "data": {
      "text/plain": [
       "[]"
      ]
     },
     "execution_count": 24,
     "metadata": {},
     "output_type": "execute_result"
    }
   ],
   "source": [
    "texts"
   ]
  },
  {
   "cell_type": "code",
   "execution_count": null,
   "metadata": {},
   "outputs": [],
   "source": []
  }
 ],
 "metadata": {
  "kernelspec": {
   "display_name": "Python 3",
   "language": "python",
   "name": "python3"
  },
  "language_info": {
   "codemirror_mode": {
    "name": "ipython",
    "version": 3
   },
   "file_extension": ".py",
   "mimetype": "text/x-python",
   "name": "python",
   "nbconvert_exporter": "python",
   "pygments_lexer": "ipython3",
   "version": "3.7.6"
  }
 },
 "nbformat": 4,
 "nbformat_minor": 4
}
